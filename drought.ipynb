{
  "nbformat": 4,
  "nbformat_minor": 0,
  "metadata": {
    "colab": {
      "provenance": [],
      "authorship_tag": "ABX9TyOA6ySLxgDovG85TtdfnFc9",
      "include_colab_link": true
    },
    "kernelspec": {
      "name": "python3",
      "display_name": "Python 3"
    },
    "language_info": {
      "name": "python"
    }
  },
  "cells": [
    {
      "cell_type": "markdown",
      "metadata": {
        "id": "view-in-github",
        "colab_type": "text"
      },
      "source": [
        "<a href=\"https://colab.research.google.com/github/lion3124/drought/blob/main/drought.ipynb\" target=\"_parent\"><img src=\"https://colab.research.google.com/assets/colab-badge.svg\" alt=\"Open In Colab\"/></a>"
      ]
    },
    {
      "cell_type": "code",
      "execution_count": null,
      "metadata": {
        "colab": {
          "base_uri": "https://localhost:8080/"
        },
        "id": "vBNNerw3lH2w",
        "outputId": "9191ccda-ea1d-4793-d31d-87c6e1060ed5"
      },
      "outputs": [
        {
          "output_type": "stream",
          "name": "stdout",
          "text": [
            "b'<?xml version=\"1.0\" encoding=\"UTF-8\" standalone=\"yes\"?><response><header><resultCode>00</resultCode><resultMsg>NORMAL SERVICE.</resultMsg></header><body><items><item><hjdcd>4148054000</hjdcd><hjdnm>\\xea\\xb2\\xbd\\xea\\xb8\\xb0\\xeb\\x8f\\x84\\xed\\x8c\\x8c\\xec\\xa3\\xbc\\xec\\x8b\\x9c\\xea\\xb5\\x90\\xed\\x95\\x98\\xeb\\x8f\\x99</hjdnm><prs1mt>\\xec\\xa0\\x95\\xec\\x83\\x81</prs1mt><prs2mt>\\xec\\xa0\\x95\\xec\\x83\\x81</prs2mt><prs3mt>\\xec\\xa0\\x95\\xec\\x83\\x81</prs3mt><prspctmt>201904</prspctmt></item><item><hjdcd>4148054000</hjdcd><hjdnm>\\xea\\xb2\\xbd\\xea\\xb8\\xb0\\xeb\\x8f\\x84\\xed\\x8c\\x8c\\xec\\xa3\\xbc\\xec\\x8b\\x9c\\xea\\xb5\\x90\\xed\\x95\\x98\\xeb\\x8f\\x99</hjdnm><prs1mt>\\xec\\xa0\\x95\\xec\\x83\\x81</prs1mt><prs2mt>\\xec\\xa0\\x95\\xec\\x83\\x81</prs2mt><prs3mt>\\xec\\xa0\\x95\\xec\\x83\\x81</prs3mt><prspctmt>201905</prspctmt></item><item><hjdcd>4148054000</hjdcd><hjdnm>\\xea\\xb2\\xbd\\xea\\xb8\\xb0\\xeb\\x8f\\x84\\xed\\x8c\\x8c\\xec\\xa3\\xbc\\xec\\x8b\\x9c\\xea\\xb5\\x90\\xed\\x95\\x98\\xeb\\x8f\\x99</hjdnm><prs1mt>\\xec\\xa0\\x95\\xec\\x83\\x81</prs1mt><prs2mt>\\xec\\xa0\\x95\\xec\\x83\\x81</prs2mt><prs3mt>\\xec\\xa0\\x95\\xec\\x83\\x81</prs3mt><prspctmt>201906</prspctmt></item><item><hjdcd>4148054000</hjdcd><hjdnm>\\xea\\xb2\\xbd\\xea\\xb8\\xb0\\xeb\\x8f\\x84\\xed\\x8c\\x8c\\xec\\xa3\\xbc\\xec\\x8b\\x9c\\xea\\xb5\\x90\\xed\\x95\\x98\\xeb\\x8f\\x99</hjdnm><prs1mt>\\xea\\xb4\\x80\\xec\\x8b\\xac</prs1mt><prs2mt>\\xec\\xa0\\x95\\xec\\x83\\x81</prs2mt><prs3mt>\\xec\\xa0\\x95\\xec\\x83\\x81</prs3mt><prspctmt>201907</prspctmt></item></items><numOfRows>10</numOfRows><pageNo>1</pageNo><totalCount>4</totalCount></body></response>'\n"
          ]
        }
      ],
      "source": [
        "import requests\n",
        "from bs4 import BeautifulSoup\n",
        "\n",
        "url = 'http://apis.data.go.kr/B500001/drghtMnbyAlansAdmnszon/analsInfoList'\n",
        "params ={'serviceKey' : 'TrP4dHAFzkbYiMCqYO3uL4UF0Kem6MW4G8cYW72QDd+OHtHjpyHNYJOZ819N8dZaUfZwgZBZw/SOX8XNGfvdpg==', 'pageNo' : '1', 'numOfRows' : '10', 'hjdCd' : '4148054000', 'stDt' : '201904', 'edDt' : '201907' }\n",
        "\n",
        "response = requests.get(url, params=params)\n",
        "print(response.content)"
      ]
    },
    {
      "cell_type": "code",
      "source": [
        "soup = BeautifulSoup(response.content, features=\"xml\")"
      ],
      "metadata": {
        "id": "4QyANKKXl290"
      },
      "execution_count": null,
      "outputs": []
    },
    {
      "cell_type": "code",
      "source": [
        "soup.find_all('body')"
      ],
      "metadata": {
        "colab": {
          "base_uri": "https://localhost:8080/"
        },
        "id": "IyS6f7CrmWvl",
        "outputId": "e91ccd19-fe6a-4f76-e094-cabf1fac1ffb"
      },
      "execution_count": null,
      "outputs": [
        {
          "output_type": "execute_result",
          "data": {
            "text/plain": [
              "[<body><items><item><hjdcd>4148054000</hjdcd><hjdnm>경기도파주시교하동</hjdnm><prs1mt>정상</prs1mt><prs2mt>정상</prs2mt><prs3mt>정상</prs3mt><prspctmt>201904</prspctmt></item><item><hjdcd>4148054000</hjdcd><hjdnm>경기도파주시교하동</hjdnm><prs1mt>정상</prs1mt><prs2mt>정상</prs2mt><prs3mt>정상</prs3mt><prspctmt>201905</prspctmt></item><item><hjdcd>4148054000</hjdcd><hjdnm>경기도파주시교하동</hjdnm><prs1mt>정상</prs1mt><prs2mt>정상</prs2mt><prs3mt>정상</prs3mt><prspctmt>201906</prspctmt></item><item><hjdcd>4148054000</hjdcd><hjdnm>경기도파주시교하동</hjdnm><prs1mt>관심</prs1mt><prs2mt>정상</prs2mt><prs3mt>정상</prs3mt><prspctmt>201907</prspctmt></item></items><numOfRows>10</numOfRows><pageNo>1</pageNo><totalCount>4</totalCount></body>]"
            ]
          },
          "metadata": {},
          "execution_count": 6
        }
      ]
    },
    {
      "cell_type": "code",
      "source": [],
      "metadata": {
        "id": "nhpri5nSmoAa"
      },
      "execution_count": null,
      "outputs": []
    }
  ]
}